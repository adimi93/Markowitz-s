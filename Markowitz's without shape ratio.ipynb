{
 "cells": [
  {
   "cell_type": "code",
   "execution_count": 84,
   "id": "b2de0ee8",
   "metadata": {},
   "outputs": [],
   "source": [
    "import pandas_datareader.data as web\n",
    "import pandas as pd\n",
    "import datetime\n",
    "import numpy as np\n",
    "import matplotlib.pyplot as plt"
   ]
  },
  {
   "cell_type": "code",
   "execution_count": 85,
   "id": "3aa4c39c",
   "metadata": {},
   "outputs": [],
   "source": [
    "start = datetime.datetime(2018,10,4)\n",
    "end =datetime.datetime(2022,10,4)"
   ]
  },
  {
   "cell_type": "code",
   "execution_count": 86,
   "id": "81c4d902",
   "metadata": {},
   "outputs": [
    {
     "name": "stdout",
     "output_type": "stream",
     "text": [
      "                    High           Low          Open         Close  \\\n",
      "Date                                                                 \n",
      "2018-10-04   6603.310059   6497.910156   6497.910156   6576.689941   \n",
      "2018-10-05   6623.620117   6557.410156   6574.149902   6622.479980   \n",
      "2018-10-06   6628.540039   6577.799805   6622.450195   6588.310059   \n",
      "2018-10-07   6641.490234   6557.040039   6590.680176   6602.950195   \n",
      "2018-10-08   6675.060059   6576.040039   6600.189941   6652.229980   \n",
      "...                  ...           ...           ...           ...   \n",
      "2022-10-01  19471.154297  19231.082031  19431.105469  19312.095703   \n",
      "2022-10-02  19370.308594  18970.621094  19311.849609  19044.107422   \n",
      "2022-10-03  19653.542969  19025.226562  19044.068359  19623.580078   \n",
      "2022-10-04  20380.343750  19523.839844  19623.583984  20336.843750   \n",
      "2022-10-05  20343.748047  19801.800781  20335.900391  20160.716797   \n",
      "\n",
      "                 Volume     Adj Close  \n",
      "Date                                   \n",
      "2018-10-04   3838410000   6576.689941  \n",
      "2018-10-05   3671500000   6622.479980  \n",
      "2018-10-06   3259740000   6588.310059  \n",
      "2018-10-07   3306630000   6602.950195  \n",
      "2018-10-08   3979460000   6652.229980  \n",
      "...                 ...           ...  \n",
      "2022-10-01  18719537670  19312.095703  \n",
      "2022-10-02  20765955327  19044.107422  \n",
      "2022-10-03  30484729489  19623.580078  \n",
      "2022-10-04  35887278685  20336.843750  \n",
      "2022-10-05  33223790572  20160.716797  \n",
      "\n",
      "[1463 rows x 6 columns]                    High          Low         Open        Close       Volume  \\\n",
      "Date                                                                          \n",
      "2018-10-04   226.147995   220.089996   220.445999   222.218002   1479500000   \n",
      "2018-10-05   228.319000   220.957001   222.266998   227.600998   1547330000   \n",
      "2018-10-06   227.925995   224.246002   227.552002   225.119995   1505070000   \n",
      "2018-10-07   226.369995   222.996002   225.434998   226.119003   1470480000   \n",
      "2018-10-08   230.764999   224.557007   226.509003   229.255005   1470740000   \n",
      "...                 ...          ...          ...          ...          ...   \n",
      "2022-10-01  1332.516479  1306.102539  1328.193726  1311.644409   6227961237   \n",
      "2022-10-02  1316.330078  1275.336060  1311.753418  1276.093506   7578351650   \n",
      "2022-10-03  1326.554443  1271.150879  1276.163452  1323.439209  10153070907   \n",
      "2022-10-04  1364.970947  1320.076660  1323.278320  1362.126587  10139774963   \n",
      "2022-10-05  1362.451782  1320.855103  1361.972900  1352.837158   9774451820   \n",
      "\n",
      "              Adj Close  \n",
      "Date                     \n",
      "2018-10-04   222.218002  \n",
      "2018-10-05   227.600998  \n",
      "2018-10-06   225.119995  \n",
      "2018-10-07   226.119003  \n",
      "2018-10-08   229.255005  \n",
      "...                 ...  \n",
      "2022-10-01  1311.644409  \n",
      "2022-10-02  1276.093506  \n",
      "2022-10-03  1323.439209  \n",
      "2022-10-04  1362.126587  \n",
      "2022-10-05  1352.837158  \n",
      "\n",
      "[1463 rows x 6 columns]                 High       Low      Open     Close       Volume  Adj Close\n",
      "Date                                                                      \n",
      "2018-10-04  1.003060  0.988396  0.998340  0.996185   2374680000   0.996185\n",
      "2018-10-05  1.003210  0.989995  0.996195  0.995778   2330830000   0.995778\n",
      "2018-10-06  1.004230  0.995775  0.996503  0.997177   2238520000   0.997177\n",
      "2018-10-07  1.003750  0.992553  0.997938  0.996617   2187670000   0.996617\n",
      "2018-10-08  1.000110  0.990055  0.996229  0.995814   2594100000   0.995814\n",
      "...              ...       ...       ...       ...          ...        ...\n",
      "2022-10-01  1.000107  0.999956  1.000062  1.000043  27312920843   1.000043\n",
      "2022-10-02  1.000106  0.999948  1.000045  1.000060  30109417396   1.000060\n",
      "2022-10-03  1.000158  0.999984  1.000056  1.000089  40191505534   1.000089\n",
      "2022-10-04  1.000256  1.000065  1.000091  1.000251  44505643606   1.000251\n",
      "2022-10-05  1.000305  1.000052  1.000250  1.000109  41883470473   1.000109\n",
      "\n",
      "[1463 rows x 6 columns]                   High         Low        Open       Close     Volume  \\\n",
      "Date                                                                    \n",
      "2018-10-04   10.393600   10.221400   10.286600   10.255600   32534900   \n",
      "2018-10-05   10.715100   10.239900   10.251300   10.636200   40756200   \n",
      "2018-10-06   10.745700   10.298800   10.645100   10.372100   30941000   \n",
      "2018-10-07   10.531700   10.296600   10.399200   10.519000   32205000   \n",
      "2018-10-08   10.632100   10.458900   10.532100   10.506600   31932700   \n",
      "...                ...         ...         ...         ...        ...   \n",
      "2022-10-01  285.192871  278.360901  284.273407  282.871918  593375648   \n",
      "2022-10-02  287.379517  279.954437  282.895050  284.433105  556343468   \n",
      "2022-10-03  288.632904  283.898651  284.414886  287.031982  700566674   \n",
      "2022-10-04  297.994659  286.528961  287.024170  296.298462  794566055   \n",
      "2022-10-05  296.333069  289.903748  296.289459  294.137665  656837388   \n",
      "\n",
      "             Adj Close  \n",
      "Date                    \n",
      "2018-10-04   10.255600  \n",
      "2018-10-05   10.636200  \n",
      "2018-10-06   10.372100  \n",
      "2018-10-07   10.519000  \n",
      "2018-10-08   10.506600  \n",
      "...                ...  \n",
      "2022-10-01  282.871918  \n",
      "2022-10-02  284.433105  \n",
      "2022-10-03  287.031982  \n",
      "2022-10-04  296.298462  \n",
      "2022-10-05  294.137665  \n",
      "\n",
      "[1463 rows x 6 columns]\n"
     ]
    }
   ],
   "source": [
    "BTC = web.DataReader('BTC-USD', 'yahoo', start, end)\n",
    "ETH = web.DataReader('ETH-USD', 'yahoo', start, end)\n",
    "USDT = web.DataReader('USDT-USD', 'yahoo', start, end) \n",
    "BNB = web.DataReader('BNB-USD', 'yahoo', start, end)\n",
    "print(BTC,ETH,USDT,BNB)"
   ]
  },
  {
   "cell_type": "code",
   "execution_count": 87,
   "id": "961e6610",
   "metadata": {},
   "outputs": [
    {
     "data": {
      "text/html": [
       "<div>\n",
       "<style scoped>\n",
       "    .dataframe tbody tr th:only-of-type {\n",
       "        vertical-align: middle;\n",
       "    }\n",
       "\n",
       "    .dataframe tbody tr th {\n",
       "        vertical-align: top;\n",
       "    }\n",
       "\n",
       "    .dataframe thead th {\n",
       "        text-align: right;\n",
       "    }\n",
       "</style>\n",
       "<table border=\"1\" class=\"dataframe\">\n",
       "  <thead>\n",
       "    <tr style=\"text-align: right;\">\n",
       "      <th></th>\n",
       "      <th>BTC</th>\n",
       "      <th>ETH</th>\n",
       "      <th>USDT</th>\n",
       "      <th>BNB</th>\n",
       "    </tr>\n",
       "    <tr>\n",
       "      <th>Date</th>\n",
       "      <th></th>\n",
       "      <th></th>\n",
       "      <th></th>\n",
       "      <th></th>\n",
       "    </tr>\n",
       "  </thead>\n",
       "  <tbody>\n",
       "    <tr>\n",
       "      <th>2018-10-04</th>\n",
       "      <td>6576.689941</td>\n",
       "      <td>222.218002</td>\n",
       "      <td>0.996185</td>\n",
       "      <td>10.255600</td>\n",
       "    </tr>\n",
       "    <tr>\n",
       "      <th>2018-10-05</th>\n",
       "      <td>6622.479980</td>\n",
       "      <td>227.600998</td>\n",
       "      <td>0.995778</td>\n",
       "      <td>10.636200</td>\n",
       "    </tr>\n",
       "    <tr>\n",
       "      <th>2018-10-06</th>\n",
       "      <td>6588.310059</td>\n",
       "      <td>225.119995</td>\n",
       "      <td>0.997177</td>\n",
       "      <td>10.372100</td>\n",
       "    </tr>\n",
       "    <tr>\n",
       "      <th>2018-10-07</th>\n",
       "      <td>6602.950195</td>\n",
       "      <td>226.119003</td>\n",
       "      <td>0.996617</td>\n",
       "      <td>10.519000</td>\n",
       "    </tr>\n",
       "    <tr>\n",
       "      <th>2018-10-08</th>\n",
       "      <td>6652.229980</td>\n",
       "      <td>229.255005</td>\n",
       "      <td>0.995814</td>\n",
       "      <td>10.506600</td>\n",
       "    </tr>\n",
       "    <tr>\n",
       "      <th>...</th>\n",
       "      <td>...</td>\n",
       "      <td>...</td>\n",
       "      <td>...</td>\n",
       "      <td>...</td>\n",
       "    </tr>\n",
       "    <tr>\n",
       "      <th>2022-10-01</th>\n",
       "      <td>19312.095703</td>\n",
       "      <td>1311.644409</td>\n",
       "      <td>1.000043</td>\n",
       "      <td>282.871918</td>\n",
       "    </tr>\n",
       "    <tr>\n",
       "      <th>2022-10-02</th>\n",
       "      <td>19044.107422</td>\n",
       "      <td>1276.093506</td>\n",
       "      <td>1.000060</td>\n",
       "      <td>284.433105</td>\n",
       "    </tr>\n",
       "    <tr>\n",
       "      <th>2022-10-03</th>\n",
       "      <td>19623.580078</td>\n",
       "      <td>1323.439209</td>\n",
       "      <td>1.000089</td>\n",
       "      <td>287.031982</td>\n",
       "    </tr>\n",
       "    <tr>\n",
       "      <th>2022-10-04</th>\n",
       "      <td>20336.843750</td>\n",
       "      <td>1362.126587</td>\n",
       "      <td>1.000251</td>\n",
       "      <td>296.298462</td>\n",
       "    </tr>\n",
       "    <tr>\n",
       "      <th>2022-10-05</th>\n",
       "      <td>20160.716797</td>\n",
       "      <td>1352.837158</td>\n",
       "      <td>1.000109</td>\n",
       "      <td>294.137665</td>\n",
       "    </tr>\n",
       "  </tbody>\n",
       "</table>\n",
       "<p>1463 rows × 4 columns</p>\n",
       "</div>"
      ],
      "text/plain": [
       "                     BTC          ETH      USDT         BNB\n",
       "Date                                                       \n",
       "2018-10-04   6576.689941   222.218002  0.996185   10.255600\n",
       "2018-10-05   6622.479980   227.600998  0.995778   10.636200\n",
       "2018-10-06   6588.310059   225.119995  0.997177   10.372100\n",
       "2018-10-07   6602.950195   226.119003  0.996617   10.519000\n",
       "2018-10-08   6652.229980   229.255005  0.995814   10.506600\n",
       "...                  ...          ...       ...         ...\n",
       "2022-10-01  19312.095703  1311.644409  1.000043  282.871918\n",
       "2022-10-02  19044.107422  1276.093506  1.000060  284.433105\n",
       "2022-10-03  19623.580078  1323.439209  1.000089  287.031982\n",
       "2022-10-04  20336.843750  1362.126587  1.000251  296.298462\n",
       "2022-10-05  20160.716797  1352.837158  1.000109  294.137665\n",
       "\n",
       "[1463 rows x 4 columns]"
      ]
     },
     "execution_count": 87,
     "metadata": {},
     "output_type": "execute_result"
    }
   ],
   "source": [
    "df = pd.concat([BTC['Adj Close'], ETH['Adj Close'], USDT['Adj Close'], BNB['Adj Close']],axis=1)\n",
    "df.columns = ['BTC', 'ETH', 'USDT', 'BNB'] \n",
    "df"
   ]
  },
  {
   "cell_type": "code",
   "execution_count": 88,
   "id": "a43b48ac",
   "metadata": {},
   "outputs": [
    {
     "data": {
      "text/html": [
       "<div>\n",
       "<style scoped>\n",
       "    .dataframe tbody tr th:only-of-type {\n",
       "        vertical-align: middle;\n",
       "    }\n",
       "\n",
       "    .dataframe tbody tr th {\n",
       "        vertical-align: top;\n",
       "    }\n",
       "\n",
       "    .dataframe thead th {\n",
       "        text-align: right;\n",
       "    }\n",
       "</style>\n",
       "<table border=\"1\" class=\"dataframe\">\n",
       "  <thead>\n",
       "    <tr style=\"text-align: right;\">\n",
       "      <th></th>\n",
       "      <th>BTC</th>\n",
       "      <th>ETH</th>\n",
       "      <th>USDT</th>\n",
       "      <th>BNB</th>\n",
       "    </tr>\n",
       "    <tr>\n",
       "      <th>Date</th>\n",
       "      <th></th>\n",
       "      <th></th>\n",
       "      <th></th>\n",
       "      <th></th>\n",
       "    </tr>\n",
       "  </thead>\n",
       "  <tbody>\n",
       "    <tr>\n",
       "      <th>2018-10-04</th>\n",
       "      <td>NaN</td>\n",
       "      <td>NaN</td>\n",
       "      <td>NaN</td>\n",
       "      <td>NaN</td>\n",
       "    </tr>\n",
       "    <tr>\n",
       "      <th>2018-10-05</th>\n",
       "      <td>0.006938</td>\n",
       "      <td>0.023935</td>\n",
       "      <td>-0.000409</td>\n",
       "      <td>0.036439</td>\n",
       "    </tr>\n",
       "    <tr>\n",
       "      <th>2018-10-06</th>\n",
       "      <td>-0.005173</td>\n",
       "      <td>-0.010961</td>\n",
       "      <td>0.001404</td>\n",
       "      <td>-0.025144</td>\n",
       "    </tr>\n",
       "    <tr>\n",
       "      <th>2018-10-07</th>\n",
       "      <td>0.002220</td>\n",
       "      <td>0.004428</td>\n",
       "      <td>-0.000562</td>\n",
       "      <td>0.014064</td>\n",
       "    </tr>\n",
       "    <tr>\n",
       "      <th>2018-10-08</th>\n",
       "      <td>0.007436</td>\n",
       "      <td>0.013774</td>\n",
       "      <td>-0.000806</td>\n",
       "      <td>-0.001179</td>\n",
       "    </tr>\n",
       "    <tr>\n",
       "      <th>...</th>\n",
       "      <td>...</td>\n",
       "      <td>...</td>\n",
       "      <td>...</td>\n",
       "      <td>...</td>\n",
       "    </tr>\n",
       "    <tr>\n",
       "      <th>2022-10-01</th>\n",
       "      <td>-0.006179</td>\n",
       "      <td>-0.012376</td>\n",
       "      <td>-0.000006</td>\n",
       "      <td>-0.004657</td>\n",
       "    </tr>\n",
       "    <tr>\n",
       "      <th>2022-10-02</th>\n",
       "      <td>-0.013974</td>\n",
       "      <td>-0.027478</td>\n",
       "      <td>0.000017</td>\n",
       "      <td>0.005504</td>\n",
       "    </tr>\n",
       "    <tr>\n",
       "      <th>2022-10-03</th>\n",
       "      <td>0.029974</td>\n",
       "      <td>0.036430</td>\n",
       "      <td>0.000029</td>\n",
       "      <td>0.009096</td>\n",
       "    </tr>\n",
       "    <tr>\n",
       "      <th>2022-10-04</th>\n",
       "      <td>0.035702</td>\n",
       "      <td>0.028813</td>\n",
       "      <td>0.000162</td>\n",
       "      <td>0.031774</td>\n",
       "    </tr>\n",
       "    <tr>\n",
       "      <th>2022-10-05</th>\n",
       "      <td>-0.008698</td>\n",
       "      <td>-0.006843</td>\n",
       "      <td>-0.000142</td>\n",
       "      <td>-0.007319</td>\n",
       "    </tr>\n",
       "  </tbody>\n",
       "</table>\n",
       "<p>1463 rows × 4 columns</p>\n",
       "</div>"
      ],
      "text/plain": [
       "                 BTC       ETH      USDT       BNB\n",
       "Date                                              \n",
       "2018-10-04       NaN       NaN       NaN       NaN\n",
       "2018-10-05  0.006938  0.023935 -0.000409  0.036439\n",
       "2018-10-06 -0.005173 -0.010961  0.001404 -0.025144\n",
       "2018-10-07  0.002220  0.004428 -0.000562  0.014064\n",
       "2018-10-08  0.007436  0.013774 -0.000806 -0.001179\n",
       "...              ...       ...       ...       ...\n",
       "2022-10-01 -0.006179 -0.012376 -0.000006 -0.004657\n",
       "2022-10-02 -0.013974 -0.027478  0.000017  0.005504\n",
       "2022-10-03  0.029974  0.036430  0.000029  0.009096\n",
       "2022-10-04  0.035702  0.028813  0.000162  0.031774\n",
       "2022-10-05 -0.008698 -0.006843 -0.000142 -0.007319\n",
       "\n",
       "[1463 rows x 4 columns]"
      ]
     },
     "execution_count": 88,
     "metadata": {},
     "output_type": "execute_result"
    }
   ],
   "source": [
    "df = np.log(1+df.pct_change())\n",
    "df"
   ]
  },
  {
   "cell_type": "code",
   "execution_count": 89,
   "id": "647b309c",
   "metadata": {},
   "outputs": [],
   "source": [
    "weights = [0.25, 0.25, 0.25, 0.25]"
   ]
  },
  {
   "cell_type": "code",
   "execution_count": 90,
   "id": "7773a488",
   "metadata": {},
   "outputs": [
    {
     "data": {
      "text/plain": [
       "0.001075010268837764"
      ]
     },
     "execution_count": 90,
     "metadata": {},
     "output_type": "execute_result"
    }
   ],
   "source": [
    "#calculating my portfolio return\n",
    "weights[0]*df.BTC.mean() + weights[1]*df.ETH.mean() + weights[2]*df.USDT.mean() + weights[3]*df.BNB.mean()"
   ]
  },
  {
   "cell_type": "code",
   "execution_count": 91,
   "id": "c502087f",
   "metadata": {},
   "outputs": [],
   "source": [
    "def expectedportfolioreturn(weights):\n",
    "    return np.dot(df.mean(),weights)"
   ]
  },
  {
   "cell_type": "code",
   "execution_count": 92,
   "id": "30f875ae",
   "metadata": {},
   "outputs": [
    {
     "data": {
      "text/plain": [
       "0.001075010268837764"
      ]
     },
     "execution_count": 92,
     "metadata": {},
     "output_type": "execute_result"
    }
   ],
   "source": [
    "expectedportfolioreturn(weights)"
   ]
  },
  {
   "cell_type": "code",
   "execution_count": 93,
   "id": "33a492e8",
   "metadata": {},
   "outputs": [
    {
     "data": {
      "text/html": [
       "<div>\n",
       "<style scoped>\n",
       "    .dataframe tbody tr th:only-of-type {\n",
       "        vertical-align: middle;\n",
       "    }\n",
       "\n",
       "    .dataframe tbody tr th {\n",
       "        vertical-align: top;\n",
       "    }\n",
       "\n",
       "    .dataframe thead th {\n",
       "        text-align: right;\n",
       "    }\n",
       "</style>\n",
       "<table border=\"1\" class=\"dataframe\">\n",
       "  <thead>\n",
       "    <tr style=\"text-align: right;\">\n",
       "      <th></th>\n",
       "      <th>BTC</th>\n",
       "      <th>ETH</th>\n",
       "      <th>USDT</th>\n",
       "      <th>BNB</th>\n",
       "    </tr>\n",
       "  </thead>\n",
       "  <tbody>\n",
       "    <tr>\n",
       "      <th>BTC</th>\n",
       "      <td>0.001491</td>\n",
       "      <td>0.001618</td>\n",
       "      <td>-0.000003</td>\n",
       "      <td>0.001443</td>\n",
       "    </tr>\n",
       "    <tr>\n",
       "      <th>ETH</th>\n",
       "      <td>0.001618</td>\n",
       "      <td>0.002520</td>\n",
       "      <td>-0.000010</td>\n",
       "      <td>0.001965</td>\n",
       "    </tr>\n",
       "    <tr>\n",
       "      <th>USDT</th>\n",
       "      <td>-0.000003</td>\n",
       "      <td>-0.000010</td>\n",
       "      <td>0.000015</td>\n",
       "      <td>-0.000012</td>\n",
       "    </tr>\n",
       "    <tr>\n",
       "      <th>BNB</th>\n",
       "      <td>0.001443</td>\n",
       "      <td>0.001965</td>\n",
       "      <td>-0.000012</td>\n",
       "      <td>0.002915</td>\n",
       "    </tr>\n",
       "  </tbody>\n",
       "</table>\n",
       "</div>"
      ],
      "text/plain": [
       "           BTC       ETH      USDT       BNB\n",
       "BTC   0.001491  0.001618 -0.000003  0.001443\n",
       "ETH   0.001618  0.002520 -0.000010  0.001965\n",
       "USDT -0.000003 -0.000010  0.000015 -0.000012\n",
       "BNB   0.001443  0.001965 -0.000012  0.002915"
      ]
     },
     "execution_count": 93,
     "metadata": {},
     "output_type": "execute_result"
    }
   ],
   "source": [
    "#portolio variance and covariance\n",
    "df.cov()"
   ]
  },
  {
   "cell_type": "code",
   "execution_count": 94,
   "id": "579e33fb",
   "metadata": {},
   "outputs": [],
   "source": [
    "pv = (1/4)**2*(df.cov().iloc[0,0]+df.cov().iloc[0,1]+df.cov().iloc[0,2]+df.cov().iloc[0,3]+df.cov().iloc[1,0]+df.cov().iloc[1,1]+df.cov().iloc[1,2]+df.cov().iloc[1,3]+df.cov().iloc[2,0]+df.cov().iloc[2,1]+df.cov().iloc[2,2]+df.cov().iloc[2,3]+df.cov().iloc[3,0]+df.cov().iloc[3,1]+df.cov().iloc[3,2]+df.cov().iloc[3,3])"
   ]
  },
  {
   "cell_type": "code",
   "execution_count": 95,
   "id": "60af6058",
   "metadata": {},
   "outputs": [
    {
     "data": {
      "text/plain": [
       "0.001059023938390247"
      ]
     },
     "execution_count": 95,
     "metadata": {},
     "output_type": "execute_result"
    }
   ],
   "source": [
    "pv"
   ]
  },
  {
   "cell_type": "code",
   "execution_count": 96,
   "id": "67c70ba3",
   "metadata": {},
   "outputs": [
    {
     "data": {
      "text/plain": [
       "0.5145444437534641"
      ]
     },
     "execution_count": 96,
     "metadata": {},
     "output_type": "execute_result"
    }
   ],
   "source": [
    "pv**(1/2)*np.sqrt(250)"
   ]
  },
  {
   "cell_type": "code",
   "execution_count": 97,
   "id": "17267cff",
   "metadata": {},
   "outputs": [],
   "source": [
    "def portfoliostd(weights):\n",
    "    return(np.dot(np.dot(df.cov(),weights),weights))**(1/2)*np.sqrt(250)"
   ]
  },
  {
   "cell_type": "code",
   "execution_count": 98,
   "id": "fcd19351",
   "metadata": {},
   "outputs": [
    {
     "data": {
      "text/plain": [
       "0.5145444437534641"
      ]
     },
     "execution_count": 98,
     "metadata": {},
     "output_type": "execute_result"
    }
   ],
   "source": [
    "portfoliostd(weights)"
   ]
  },
  {
   "cell_type": "code",
   "execution_count": 99,
   "id": "a66fa0b4",
   "metadata": {},
   "outputs": [],
   "source": [
    "def weightscreator(df):\n",
    "    rand = np.random.random(len(df.columns))\n",
    "    rand /= rand.sum()\n",
    "    return rand"
   ]
  },
  {
   "cell_type": "code",
   "execution_count": 100,
   "id": "50aaa352",
   "metadata": {},
   "outputs": [
    {
     "data": {
      "text/plain": [
       "array([0.16223731, 0.56630629, 0.08955135, 0.18190505])"
      ]
     },
     "execution_count": 100,
     "metadata": {},
     "output_type": "execute_result"
    }
   ],
   "source": [
    "weightscreator(df)"
   ]
  },
  {
   "cell_type": "code",
   "execution_count": 106,
   "id": "36732b3b",
   "metadata": {},
   "outputs": [],
   "source": [
    "returns = []\n",
    "stds = []\n",
    "w = []\n",
    "\n",
    "for i in range(50):\n",
    "    weights = weightscreator(df)\n",
    "    returns.append(expectedportfolioreturn(weights))\n",
    "    std.append(portfoliostd(weights))\n",
    "    w.append(weights)"
   ]
  },
  {
   "cell_type": "code",
   "execution_count": 107,
   "id": "69201f21",
   "metadata": {},
   "outputs": [
    {
     "ename": "ValueError",
     "evalue": "x and y must be the same size",
     "output_type": "error",
     "traceback": [
      "\u001b[1;31m---------------------------------------------------------------------------\u001b[0m",
      "\u001b[1;31mValueError\u001b[0m                                Traceback (most recent call last)",
      "\u001b[1;32m<ipython-input-107-189155ee8df1>\u001b[0m in \u001b[0;36m<module>\u001b[1;34m\u001b[0m\n\u001b[0;32m      1\u001b[0m \u001b[0mplt\u001b[0m\u001b[1;33m.\u001b[0m\u001b[0mfigure\u001b[0m\u001b[1;33m(\u001b[0m\u001b[0mfigsize\u001b[0m\u001b[1;33m=\u001b[0m\u001b[1;33m(\u001b[0m\u001b[1;36m20\u001b[0m\u001b[1;33m,\u001b[0m\u001b[1;36m6\u001b[0m\u001b[1;33m)\u001b[0m\u001b[1;33m)\u001b[0m\u001b[1;33m\u001b[0m\u001b[1;33m\u001b[0m\u001b[0m\n\u001b[1;32m----> 2\u001b[1;33m \u001b[0mplt\u001b[0m\u001b[1;33m.\u001b[0m\u001b[0mscatter\u001b[0m\u001b[1;33m(\u001b[0m\u001b[0mstds\u001b[0m\u001b[1;33m,\u001b[0m\u001b[0mreturns\u001b[0m\u001b[1;33m)\u001b[0m\u001b[1;33m\u001b[0m\u001b[1;33m\u001b[0m\u001b[0m\n\u001b[0m\u001b[0;32m      3\u001b[0m \u001b[0mplt\u001b[0m\u001b[1;33m.\u001b[0m\u001b[0mtitle\u001b[0m\u001b[1;33m(\u001b[0m\u001b[1;34m'Efficient Frontier'\u001b[0m\u001b[1;33m)\u001b[0m\u001b[1;33m\u001b[0m\u001b[1;33m\u001b[0m\u001b[0m\n\u001b[0;32m      4\u001b[0m \u001b[0mplt\u001b[0m\u001b[1;33m.\u001b[0m\u001b[0mxlabel\u001b[0m\u001b[1;33m(\u001b[0m\u001b[1;34m'Portfolio std'\u001b[0m\u001b[1;33m)\u001b[0m\u001b[1;33m\u001b[0m\u001b[1;33m\u001b[0m\u001b[0m\n\u001b[0;32m      5\u001b[0m \u001b[0mplt\u001b[0m\u001b[1;33m.\u001b[0m\u001b[0mylabel\u001b[0m\u001b[1;33m(\u001b[0m\u001b[1;34m'Porfolio returns'\u001b[0m\u001b[1;33m)\u001b[0m\u001b[1;33m\u001b[0m\u001b[1;33m\u001b[0m\u001b[0m\n",
      "\u001b[1;32mC:\\Anaconda3\\lib\\site-packages\\matplotlib\\pyplot.py\u001b[0m in \u001b[0;36mscatter\u001b[1;34m(x, y, s, c, marker, cmap, norm, vmin, vmax, alpha, linewidths, verts, edgecolors, plotnonfinite, data, **kwargs)\u001b[0m\n\u001b[0;32m   2888\u001b[0m         \u001b[0mverts\u001b[0m\u001b[1;33m=\u001b[0m\u001b[0mcbook\u001b[0m\u001b[1;33m.\u001b[0m\u001b[0mdeprecation\u001b[0m\u001b[1;33m.\u001b[0m\u001b[0m_deprecated_parameter\u001b[0m\u001b[1;33m,\u001b[0m\u001b[1;33m\u001b[0m\u001b[1;33m\u001b[0m\u001b[0m\n\u001b[0;32m   2889\u001b[0m         edgecolors=None, *, plotnonfinite=False, data=None, **kwargs):\n\u001b[1;32m-> 2890\u001b[1;33m     __ret = gca().scatter(\n\u001b[0m\u001b[0;32m   2891\u001b[0m         \u001b[0mx\u001b[0m\u001b[1;33m,\u001b[0m \u001b[0my\u001b[0m\u001b[1;33m,\u001b[0m \u001b[0ms\u001b[0m\u001b[1;33m=\u001b[0m\u001b[0ms\u001b[0m\u001b[1;33m,\u001b[0m \u001b[0mc\u001b[0m\u001b[1;33m=\u001b[0m\u001b[0mc\u001b[0m\u001b[1;33m,\u001b[0m \u001b[0mmarker\u001b[0m\u001b[1;33m=\u001b[0m\u001b[0mmarker\u001b[0m\u001b[1;33m,\u001b[0m \u001b[0mcmap\u001b[0m\u001b[1;33m=\u001b[0m\u001b[0mcmap\u001b[0m\u001b[1;33m,\u001b[0m \u001b[0mnorm\u001b[0m\u001b[1;33m=\u001b[0m\u001b[0mnorm\u001b[0m\u001b[1;33m,\u001b[0m\u001b[1;33m\u001b[0m\u001b[1;33m\u001b[0m\u001b[0m\n\u001b[0;32m   2892\u001b[0m         \u001b[0mvmin\u001b[0m\u001b[1;33m=\u001b[0m\u001b[0mvmin\u001b[0m\u001b[1;33m,\u001b[0m \u001b[0mvmax\u001b[0m\u001b[1;33m=\u001b[0m\u001b[0mvmax\u001b[0m\u001b[1;33m,\u001b[0m \u001b[0malpha\u001b[0m\u001b[1;33m=\u001b[0m\u001b[0malpha\u001b[0m\u001b[1;33m,\u001b[0m \u001b[0mlinewidths\u001b[0m\u001b[1;33m=\u001b[0m\u001b[0mlinewidths\u001b[0m\u001b[1;33m,\u001b[0m\u001b[1;33m\u001b[0m\u001b[1;33m\u001b[0m\u001b[0m\n",
      "\u001b[1;32mC:\\Anaconda3\\lib\\site-packages\\matplotlib\\__init__.py\u001b[0m in \u001b[0;36minner\u001b[1;34m(ax, data, *args, **kwargs)\u001b[0m\n\u001b[0;32m   1445\u001b[0m     \u001b[1;32mdef\u001b[0m \u001b[0minner\u001b[0m\u001b[1;33m(\u001b[0m\u001b[0max\u001b[0m\u001b[1;33m,\u001b[0m \u001b[1;33m*\u001b[0m\u001b[0margs\u001b[0m\u001b[1;33m,\u001b[0m \u001b[0mdata\u001b[0m\u001b[1;33m=\u001b[0m\u001b[1;32mNone\u001b[0m\u001b[1;33m,\u001b[0m \u001b[1;33m**\u001b[0m\u001b[0mkwargs\u001b[0m\u001b[1;33m)\u001b[0m\u001b[1;33m:\u001b[0m\u001b[1;33m\u001b[0m\u001b[1;33m\u001b[0m\u001b[0m\n\u001b[0;32m   1446\u001b[0m         \u001b[1;32mif\u001b[0m \u001b[0mdata\u001b[0m \u001b[1;32mis\u001b[0m \u001b[1;32mNone\u001b[0m\u001b[1;33m:\u001b[0m\u001b[1;33m\u001b[0m\u001b[1;33m\u001b[0m\u001b[0m\n\u001b[1;32m-> 1447\u001b[1;33m             \u001b[1;32mreturn\u001b[0m \u001b[0mfunc\u001b[0m\u001b[1;33m(\u001b[0m\u001b[0max\u001b[0m\u001b[1;33m,\u001b[0m \u001b[1;33m*\u001b[0m\u001b[0mmap\u001b[0m\u001b[1;33m(\u001b[0m\u001b[0msanitize_sequence\u001b[0m\u001b[1;33m,\u001b[0m \u001b[0margs\u001b[0m\u001b[1;33m)\u001b[0m\u001b[1;33m,\u001b[0m \u001b[1;33m**\u001b[0m\u001b[0mkwargs\u001b[0m\u001b[1;33m)\u001b[0m\u001b[1;33m\u001b[0m\u001b[1;33m\u001b[0m\u001b[0m\n\u001b[0m\u001b[0;32m   1448\u001b[0m \u001b[1;33m\u001b[0m\u001b[0m\n\u001b[0;32m   1449\u001b[0m         \u001b[0mbound\u001b[0m \u001b[1;33m=\u001b[0m \u001b[0mnew_sig\u001b[0m\u001b[1;33m.\u001b[0m\u001b[0mbind\u001b[0m\u001b[1;33m(\u001b[0m\u001b[0max\u001b[0m\u001b[1;33m,\u001b[0m \u001b[1;33m*\u001b[0m\u001b[0margs\u001b[0m\u001b[1;33m,\u001b[0m \u001b[1;33m**\u001b[0m\u001b[0mkwargs\u001b[0m\u001b[1;33m)\u001b[0m\u001b[1;33m\u001b[0m\u001b[1;33m\u001b[0m\u001b[0m\n",
      "\u001b[1;32mC:\\Anaconda3\\lib\\site-packages\\matplotlib\\cbook\\deprecation.py\u001b[0m in \u001b[0;36mwrapper\u001b[1;34m(*inner_args, **inner_kwargs)\u001b[0m\n\u001b[0;32m    409\u001b[0m                          \u001b[1;32melse\u001b[0m \u001b[0mdeprecation_addendum\u001b[0m\u001b[1;33m,\u001b[0m\u001b[1;33m\u001b[0m\u001b[1;33m\u001b[0m\u001b[0m\n\u001b[0;32m    410\u001b[0m                 **kwargs)\n\u001b[1;32m--> 411\u001b[1;33m         \u001b[1;32mreturn\u001b[0m \u001b[0mfunc\u001b[0m\u001b[1;33m(\u001b[0m\u001b[1;33m*\u001b[0m\u001b[0minner_args\u001b[0m\u001b[1;33m,\u001b[0m \u001b[1;33m**\u001b[0m\u001b[0minner_kwargs\u001b[0m\u001b[1;33m)\u001b[0m\u001b[1;33m\u001b[0m\u001b[1;33m\u001b[0m\u001b[0m\n\u001b[0m\u001b[0;32m    412\u001b[0m \u001b[1;33m\u001b[0m\u001b[0m\n\u001b[0;32m    413\u001b[0m     \u001b[1;32mreturn\u001b[0m \u001b[0mwrapper\u001b[0m\u001b[1;33m\u001b[0m\u001b[1;33m\u001b[0m\u001b[0m\n",
      "\u001b[1;32mC:\\Anaconda3\\lib\\site-packages\\matplotlib\\axes\\_axes.py\u001b[0m in \u001b[0;36mscatter\u001b[1;34m(self, x, y, s, c, marker, cmap, norm, vmin, vmax, alpha, linewidths, verts, edgecolors, plotnonfinite, **kwargs)\u001b[0m\n\u001b[0;32m   4439\u001b[0m         \u001b[0my\u001b[0m \u001b[1;33m=\u001b[0m \u001b[0mnp\u001b[0m\u001b[1;33m.\u001b[0m\u001b[0mma\u001b[0m\u001b[1;33m.\u001b[0m\u001b[0mravel\u001b[0m\u001b[1;33m(\u001b[0m\u001b[0my\u001b[0m\u001b[1;33m)\u001b[0m\u001b[1;33m\u001b[0m\u001b[1;33m\u001b[0m\u001b[0m\n\u001b[0;32m   4440\u001b[0m         \u001b[1;32mif\u001b[0m \u001b[0mx\u001b[0m\u001b[1;33m.\u001b[0m\u001b[0msize\u001b[0m \u001b[1;33m!=\u001b[0m \u001b[0my\u001b[0m\u001b[1;33m.\u001b[0m\u001b[0msize\u001b[0m\u001b[1;33m:\u001b[0m\u001b[1;33m\u001b[0m\u001b[1;33m\u001b[0m\u001b[0m\n\u001b[1;32m-> 4441\u001b[1;33m             \u001b[1;32mraise\u001b[0m \u001b[0mValueError\u001b[0m\u001b[1;33m(\u001b[0m\u001b[1;34m\"x and y must be the same size\"\u001b[0m\u001b[1;33m)\u001b[0m\u001b[1;33m\u001b[0m\u001b[1;33m\u001b[0m\u001b[0m\n\u001b[0m\u001b[0;32m   4442\u001b[0m \u001b[1;33m\u001b[0m\u001b[0m\n\u001b[0;32m   4443\u001b[0m         \u001b[1;32mif\u001b[0m \u001b[0ms\u001b[0m \u001b[1;32mis\u001b[0m \u001b[1;32mNone\u001b[0m\u001b[1;33m:\u001b[0m\u001b[1;33m\u001b[0m\u001b[1;33m\u001b[0m\u001b[0m\n",
      "\u001b[1;31mValueError\u001b[0m: x and y must be the same size"
     ]
    },
    {
     "data": {
      "image/png": "[encoded data removed]",
      "text/plain": [
       "<Figure size 1440x432 with 1 Axes>"
      ]
     },
     "metadata": {
      "needs_background": "light"
     },
     "output_type": "display_data"
    }
   ],
   "source": [
    "plt.figure(figsize=(20,6))\n",
    "plt.scatter(stds,returns)\n",
    "plt.title('Efficient Frontier')\n",
    "plt.xlabel('Portfolio std')\n",
    "plt.ylabel('Porfolio returns')\n",
    "plt.show()"
   ]
  },
  {
   "cell_type": "code",
   "execution_count": null,
   "id": "346d6436",
   "metadata": {},
   "outputs": [],
   "source": []
  },
  {
   "cell_type": "code",
   "execution_count": null,
   "id": "bfef44f8",
   "metadata": {},
   "outputs": [],
   "source": []
  }
 ],
 "metadata": {
  "kernelspec": {
   "display_name": "Python 3",
   "language": "python",
   "name": "python3"
  },
  "language_info": {
   "codemirror_mode": {
    "name": "ipython",
    "version": 3
   },
   "file_extension": ".py",
   "mimetype": "text/x-python",
   "name": "python",
   "nbconvert_exporter": "python",
   "pygments_lexer": "ipython3",
   "version": "3.8.8"
  }
 },
 "nbformat": 4,
 "nbformat_minor": 5
}
